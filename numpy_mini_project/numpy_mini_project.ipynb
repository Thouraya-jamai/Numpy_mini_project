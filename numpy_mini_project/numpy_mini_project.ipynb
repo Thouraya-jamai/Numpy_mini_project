{
 "cells": [
  {
   "cell_type": "code",
   "execution_count": 1,
   "id": "3c3fb37b",
   "metadata": {},
   "outputs": [],
   "source": [
    "import numpy as np"
   ]
  },
  {
   "cell_type": "raw",
   "id": "134cc889",
   "metadata": {},
   "source": [
    "Load the data"
   ]
  },
  {
   "cell_type": "code",
   "execution_count": 45,
   "id": "ee3da825",
   "metadata": {},
   "outputs": [],
   "source": [
    "data = np.genfromtxt('KAG_Conversion_Data.csv', delimiter=',', skip_header=1,dtype=str)\n",
    "data1= np.genfromtxt('KAG_Conversion_Data.csv', delimiter=',', skip_header=1,dtype=float)"
   ]
  },
  {
   "cell_type": "raw",
   "id": "85bd549e",
   "metadata": {},
   "source": [
    "Features:\n",
    "1. ad_id: unique ID for each ad\n",
    "\n",
    "2. xyzcampaignid: an ID associated with each ad campaign of XYZ company\n",
    "\n",
    "3. fbcampaignid: an ID associated with how Facebook tracks each campaign\n",
    "\n",
    "4. age: age of the person to whom the ad is shown\n",
    "\n",
    "5. gender: gender of the person to whom the add is shown\n",
    "\n",
    "6. interest: a code specifying the category to which the person’s interest belongs (interests are as mentioned in the person’s Facebook public profile)\n",
    "\n",
    "7. Impressions: the number of times the ad was shown\n",
    "\n",
    "8. Clicks: number of clicks on for that ad\n",
    "\n",
    "9. Spent: Amount paid by company xyz to Facebook, to show that ad\n",
    "\n",
    "10. Total conversion: Total number of people who enquired about the product after seeing the ad\n",
    "\n",
    "11. Approved conversion: Total number of people who bought the product after seeing the ad\n"
   ]
  },
  {
   "cell_type": "raw",
   "id": "67c1f7a2",
   "metadata": {},
   "source": [
    "Q1:How many unique ad campaigns (xyzcampaignid) does this data contain ? And for how many times was each campaign run ?"
   ]
  },
  {
   "cell_type": "code",
   "execution_count": 36,
   "id": "f714e804",
   "metadata": {},
   "outputs": [
    {
     "data": {
      "text/plain": [
       "array(['1178', '916', '936'], dtype='<U11')"
      ]
     },
     "execution_count": 36,
     "metadata": {},
     "output_type": "execute_result"
    }
   ],
   "source": [
    "x= data[:,1]\n",
    "unique_id= np.unique(x)\n",
    "unique_id"
   ]
  },
  {
   "cell_type": "code",
   "execution_count": 65,
   "id": "82810c4c",
   "metadata": {},
   "outputs": [
    {
     "name": "stdout",
     "output_type": "stream",
     "text": [
      "unique id is ['1178' '916' '936']\n",
      "count is [625  54 464]\n",
      "Total Number of Unique id 3\n"
     ]
    }
   ],
   "source": [
    "#determining how many unique id and how many times the campaign run\n",
    "unique_id,count=np.unique(x,return_counts=True)\n",
    "print(\"unique id is\",unique_id)\n",
    "print('count is',count)\n",
    "\n",
    "#numbers of unique id\n",
    "print(\"Total Number of Unique id\",unique_id.size)"
   ]
  },
  {
   "cell_type": "code",
   "execution_count": 66,
   "id": "e7c2b28a",
   "metadata": {},
   "outputs": [
    {
     "name": "stdout",
     "output_type": "stream",
     "text": [
      "The id 1178 is run 625\n",
      "The id 916 is run 54\n",
      "The id 936 is run 464\n"
     ]
    }
   ],
   "source": [
    "#details explanation on how many times each program was run\n",
    "print(\"The id\",unique_id[0],\"is run\",count[0])\n",
    "print(\"The id\",unique_id[1],\"is run\",count[1])\n",
    "print(\"The id\",unique_id[2],\"is run\",count[2])"
   ]
  },
  {
   "cell_type": "raw",
   "id": "a2602fcb",
   "metadata": {},
   "source": [
    "Q2: What are the age groups that were targeted through these ad campaigns?"
   ]
  },
  {
   "cell_type": "code",
   "execution_count": 37,
   "id": "6a84a2a4",
   "metadata": {},
   "outputs": [
    {
     "data": {
      "text/plain": [
       "array(['30-34', '30-34', '30-34', ..., '45-49', '45-49', '45-49'],\n",
       "      dtype='<U11')"
      ]
     },
     "execution_count": 37,
     "metadata": {},
     "output_type": "execute_result"
    }
   ],
   "source": [
    "age_group= data[:,3]\n",
    "age_group"
   ]
  },
  {
   "cell_type": "code",
   "execution_count": 44,
   "id": "3f102661",
   "metadata": {},
   "outputs": [
    {
     "data": {
      "text/plain": [
       "array(['30-34', '35-39', '40-44', '45-49'], dtype='<U11')"
      ]
     },
     "execution_count": 44,
     "metadata": {},
     "output_type": "execute_result"
    }
   ],
   "source": [
    "unique_age_group=np.unique(age_group)\n",
    "unique_age_group"
   ]
  },
  {
   "cell_type": "raw",
   "id": "3e3a5f94",
   "metadata": {},
   "source": [
    "Q3: What was the average, minimum and maximum amount spent on the ads?\n"
   ]
  },
  {
   "cell_type": "code",
   "execution_count": 47,
   "id": "245782cd",
   "metadata": {},
   "outputs": [
    {
     "data": {
      "text/plain": [
       "array([  1.42999995,   1.82000002,   0.        , ...,  40.28999949,\n",
       "       198.7100005 , 165.6099987 ])"
      ]
     },
     "execution_count": 47,
     "metadata": {},
     "output_type": "execute_result"
    }
   ],
   "source": [
    "amount_spent=data1[:,8]\n",
    "amount_spent"
   ]
  },
  {
   "cell_type": "code",
   "execution_count": 48,
   "id": "dc419a25",
   "metadata": {},
   "outputs": [
    {
     "data": {
      "text/plain": [
       "51.36065613141295"
      ]
     },
     "execution_count": 48,
     "metadata": {},
     "output_type": "execute_result"
    }
   ],
   "source": [
    "#the average\n",
    "avg_amount_spent=np.mean(amount_spent)\n",
    "avg_amount_spent"
   ]
  },
  {
   "cell_type": "code",
   "execution_count": 49,
   "id": "dd353274",
   "metadata": {},
   "outputs": [
    {
     "data": {
      "text/plain": [
       "639.9499981"
      ]
     },
     "execution_count": 49,
     "metadata": {},
     "output_type": "execute_result"
    }
   ],
   "source": [
    "#the max\n",
    "max_amount_spent=np.max(amount_spent)\n",
    "max_amount_spent"
   ]
  },
  {
   "cell_type": "code",
   "execution_count": 50,
   "id": "38505245",
   "metadata": {},
   "outputs": [
    {
     "data": {
      "text/plain": [
       "0.0"
      ]
     },
     "execution_count": 50,
     "metadata": {},
     "output_type": "execute_result"
    }
   ],
   "source": [
    "#the min\n",
    "max_amount_spent=np.min(amount_spent)\n",
    "max_amount_spent"
   ]
  },
  {
   "cell_type": "raw",
   "id": "6b36f1c8",
   "metadata": {},
   "source": [
    "Q4. What is the id of the ad having the maximum number of clicks ?"
   ]
  },
  {
   "cell_type": "code",
   "execution_count": 58,
   "id": "0b12c835",
   "metadata": {},
   "outputs": [
    {
     "name": "stdout",
     "output_type": "stream",
     "text": [
      "[  1.   2.   0. ...  28. 135. 114.]\n"
     ]
    }
   ],
   "source": [
    "clicks=data1[:,7]\n",
    "print(clicks)"
   ]
  },
  {
   "cell_type": "code",
   "execution_count": 59,
   "id": "df4ac21a",
   "metadata": {},
   "outputs": [
    {
     "data": {
      "text/plain": [
       "array([1121814.])"
      ]
     },
     "execution_count": 59,
     "metadata": {},
     "output_type": "execute_result"
    }
   ],
   "source": [
    "data1[:,0][data1[:,7]==max(clicks)]"
   ]
  },
  {
   "cell_type": "raw",
   "id": "76c951b3",
   "metadata": {},
   "source": [
    "Q5. How many people bought the product after seeing the ad with most clicks? Is that the maximum number of purchases in this dataset?"
   ]
  },
  {
   "cell_type": "code",
   "execution_count": 67,
   "id": "99150a8a",
   "metadata": {},
   "outputs": [
    {
     "data": {
      "text/plain": [
       "1079.0"
      ]
     },
     "execution_count": 67,
     "metadata": {},
     "output_type": "execute_result"
    }
   ],
   "source": [
    "#number of people who bought the product after seeing the ad \n",
    "bought_product=data1[:,10]\n",
    "p_bought_product=np.sum(bought_product)\n",
    "p_bought_product"
   ]
  },
  {
   "cell_type": "code",
   "execution_count": 72,
   "id": "937cc466",
   "metadata": {},
   "outputs": [
    {
     "data": {
      "text/plain": [
       "21.0"
      ]
     },
     "execution_count": 72,
     "metadata": {},
     "output_type": "execute_result"
    }
   ],
   "source": [
    "#the maximum number of purchases \n",
    "max_purchase=bought_product.max()\n",
    "max_purchase"
   ]
  },
  {
   "cell_type": "code",
   "execution_count": 73,
   "id": "e2b82ef9",
   "metadata": {},
   "outputs": [
    {
     "name": "stdout",
     "output_type": "stream",
     "text": [
      "13\n"
     ]
    }
   ],
   "source": [
    "#number of people who bought the product after seeing the ad with max clicks\n",
    "print(int(data1[:,10][data1[:,7]==max(clicks)]))"
   ]
  },
  {
   "cell_type": "raw",
   "id": "a47ac4b3",
   "metadata": {},
   "source": [
    "So the ad with the most clicks didn't fetch the maximum number of purchases"
   ]
  },
  {
   "cell_type": "raw",
   "id": "e9baba88",
   "metadata": {},
   "source": [
    "Q6. Find the details of the product having maximum number of purchases\n"
   ]
  },
  {
   "cell_type": "code",
   "execution_count": 77,
   "id": "614b13c4",
   "metadata": {},
   "outputs": [
    {
     "data": {
      "text/plain": [
       "array([['1121104', '1178', '144533', '30-34', 'M', '16', '2080666',\n",
       "        '202', '360.1500015', '40', '21']], dtype='<U11')"
      ]
     },
     "execution_count": 77,
     "metadata": {},
     "output_type": "execute_result"
    }
   ],
   "source": [
    "data[data[:,10]==\"21\"]"
   ]
  },
  {
   "cell_type": "code",
   "execution_count": null,
   "id": "35e29466",
   "metadata": {},
   "outputs": [],
   "source": []
  }
 ],
 "metadata": {
  "kernelspec": {
   "display_name": "Python 3 (ipykernel)",
   "language": "python",
   "name": "python3"
  },
  "language_info": {
   "codemirror_mode": {
    "name": "ipython",
    "version": 3
   },
   "file_extension": ".py",
   "mimetype": "text/x-python",
   "name": "python",
   "nbconvert_exporter": "python",
   "pygments_lexer": "ipython3",
   "version": "3.11.5"
  }
 },
 "nbformat": 4,
 "nbformat_minor": 5
}
